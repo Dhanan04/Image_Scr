{
 "cells": [
  {
   "cell_type": "code",
   "execution_count": 1,
   "id": "2219515f",
   "metadata": {},
   "outputs": [
    {
     "name": "stdout",
     "output_type": "stream",
     "text": [
      "Requirement already satisfied: beautifulsoup4 in c:\\users\\dell\\anaconda3\\lib\\site-packages (4.12.2)\n",
      "Requirement already satisfied: soupsieve>1.2 in c:\\users\\dell\\anaconda3\\lib\\site-packages (from beautifulsoup4) (2.4)\n"
     ]
    },
    {
     "name": "stderr",
     "output_type": "stream",
     "text": [
      "DEPRECATION: Loading egg at c:\\users\\dell\\anaconda3\\lib\\site-packages\\diamondpriceprediction-0.0.1-py3.11.egg is deprecated. pip 23.3 will enforce this behaviour change. A possible replacement is to use pip for package installation..\n",
      "DEPRECATION: Loading egg at c:\\users\\dell\\anaconda3\\lib\\site-packages\\fonttools-4.42.1-py3.11.egg is deprecated. pip 23.3 will enforce this behaviour change. A possible replacement is to use pip for package installation..\n"
     ]
    }
   ],
   "source": [
    "!pip install beautifulsoup4"
   ]
  },
  {
   "cell_type": "code",
   "execution_count": 2,
   "id": "e9ffdbae",
   "metadata": {},
   "outputs": [
    {
     "name": "stdout",
     "output_type": "stream",
     "text": [
      "Data scraped and saved successfully!\n"
     ]
    }
   ],
   "source": [
    "import requests\n",
    "from bs4 import BeautifulSoup\n",
    "import csv\n",
    "\n",
    "# Function to scrape data from YouTube channel URL\n",
    "def scrape_youtube_data(url):\n",
    "    # Send a GET request to the URL\n",
    "    response = requests.get(url)\n",
    "    # Parse the HTML content\n",
    "    soup = BeautifulSoup(response.content, 'html.parser')\n",
    "    \n",
    "    # Lists to store data\n",
    "    video_urls = []\n",
    "    thumbnail_urls = []\n",
    "    titles = []\n",
    "    views = []\n",
    "    posting_times = []\n",
    "    \n",
    "    # Find all video items\n",
    "    video_items = soup.find_all('div', class_='style-scope ytd-grid-video-renderer')\n",
    "    \n",
    "    # Iterate over the first five video items\n",
    "    for video in video_items[:5]:\n",
    "        # Extract video URL\n",
    "        video_url = 'https://www.youtube.com' + video.find('a', class_='yt-simple-endpoint').get('href')\n",
    "        video_urls.append(video_url)\n",
    "        \n",
    "        # Extract thumbnail URL\n",
    "        thumbnail_url = video.find('img', class_='style-scope yt-img-shadow').get('src')\n",
    "        thumbnail_urls.append(thumbnail_url)\n",
    "        \n",
    "        # Extract title\n",
    "        title = video.find('a', class_='yt-simple-endpoint').get('title')\n",
    "        titles.append(title)\n",
    "        \n",
    "        # Extract views\n",
    "        view_count = video.find('span', class_='style-scope ytd-grid-video-renderer').text\n",
    "        views.append(view_count)\n",
    "        \n",
    "        # Extract posting time\n",
    "        posting_time = video.find('span', class_='style-scope ytd-grid-video-renderer').text\n",
    "        posting_times.append(posting_time)\n",
    "        \n",
    "    return video_urls, thumbnail_urls, titles, views, posting_times\n",
    "\n",
    "# YouTube channel URL\n",
    "youtube_url = 'https://www.youtube.com/@PW-Foundation/videos'\n",
    "\n",
    "# Scrape data\n",
    "video_urls, thumbnail_urls, titles, views, posting_times = scrape_youtube_data(youtube_url)\n",
    "\n",
    "# Save data to a CSV file\n",
    "with open('youtube_data.csv', 'w', newline='', encoding='utf-8') as file:\n",
    "    writer = csv.writer(file)\n",
    "    writer.writerow(['Video URL', 'Thumbnail URL', 'Title', 'Views', 'Posting Time'])\n",
    "    for i in range(len(video_urls)):\n",
    "        writer.writerow([video_urls[i], thumbnail_urls[i], titles[i], views[i], posting_times[i]])\n",
    "\n",
    "print(\"Data scraped and saved successfully!\")\n"
   ]
  },
  {
   "cell_type": "code",
   "execution_count": null,
   "id": "d43faf6c",
   "metadata": {},
   "outputs": [],
   "source": []
  }
 ],
 "metadata": {
  "kernelspec": {
   "display_name": "Python 3 (ipykernel)",
   "language": "python",
   "name": "python3"
  },
  "language_info": {
   "codemirror_mode": {
    "name": "ipython",
    "version": 3
   },
   "file_extension": ".py",
   "mimetype": "text/x-python",
   "name": "python",
   "nbconvert_exporter": "python",
   "pygments_lexer": "ipython3",
   "version": "3.11.4"
  }
 },
 "nbformat": 4,
 "nbformat_minor": 5
}
